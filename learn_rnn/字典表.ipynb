{
 "cells": [
  {
   "cell_type": "code",
   "execution_count": 2,
   "metadata": {
    "collapsed": true,
    "pycharm": {
     "is_executing": false
    }
   },
   "outputs": [
    {
     "name": "stderr",
     "text": [
      "Building prefix dict from the default dictionary ...\n",
      "Loading model from cache C:\\Users\\liaomin\\AppData\\Local\\Temp\\jieba.cache\n",
      "Loading model cost 0.861 seconds.\n",
      "Prefix dict has been built successfully.\n"
     ],
     "output_type": "stream"
    },
    {
     "name": "stdout",
     "text": [
      "{'My': 0, 'name': 1, 'is': 2, 'james': 3, 'friends': 4, 'are': 5, 'Emily': 6, 'and': 7, 'Olivia': 8}\n"
     ],
     "output_type": "stream"
    }
   ],
   "source": [
    "import jieba\n",
    "sentence = \"My name is james My friends are Emily and Olivia\"\n",
    "word_list = jieba.lcut(sentence)  # 使用精确模式分词，返回一个列表\n",
    "\n",
    "# 建立字典表\n",
    "word_dict = {}\n",
    "for word in word_list:\n",
    "    if word not in word_dict:\n",
    "        if word.strip()!=\"\":\n",
    "            word_dict[word] = len(word_dict)\n",
    "\n",
    "print(word_dict)"
   ]
  },
  {
   "cell_type": "code",
   "execution_count": 3,
   "outputs": [
    {
     "name": "stdout",
     "text": [
      "A\na\naa\naal\naalii\naam\nAani\naardvark\naardwolf\nAaron\nTotal number of words: 235892\n"
     ],
     "output_type": "stream"
    },
    {
     "name": "stderr",
     "text": [
      "[nltk_data] Downloading package words to\n[nltk_data]     C:\\Users\\liaomin\\AppData\\Roaming\\nltk_data...\n[nltk_data]   Package words is already up-to-date!\n"
     ],
     "output_type": "stream"
    }
   ],
   "source": [
    "#下载所有英文词汇表\n",
    "import nltk\n",
    "# 下载并导入NLTK的词汇表\n",
    "nltk.download('words')\n",
    "from nltk.corpus import words\n",
    "\n",
    "# 创建一个包含所有英文单词的列表\n",
    "word_list = words.words()\n",
    "\n",
    "# 创建一个字典，将每个单词与其索引对应起来\n",
    "word_dict = {word: index for index, word in enumerate(word_list)}\n",
    "\n",
    "# 打印字典的前10个单词\n",
    "for word in list(word_dict.keys())[:10]:\n",
    "    print(word)\n",
    "\n",
    "# 打印字典中单词的总数\n",
    "print(\"Total number of words:\", len(word_dict))\n",
    "\n"
   ],
   "metadata": {
    "collapsed": false,
    "pycharm": {
     "name": "#%%\n",
     "is_executing": false
    }
   }
  }
 ],
 "metadata": {
  "kernelspec": {
   "display_name": "Python 3",
   "language": "python",
   "name": "python3"
  },
  "language_info": {
   "codemirror_mode": {
    "name": "ipython",
    "version": 2
   },
   "file_extension": ".py",
   "mimetype": "text/x-python",
   "name": "python",
   "nbconvert_exporter": "python",
   "pygments_lexer": "ipython2",
   "version": "2.7.6"
  },
  "pycharm": {
   "stem_cell": {
    "cell_type": "raw",
    "source": [],
    "metadata": {
     "collapsed": false
    }
   }
  }
 },
 "nbformat": 4,
 "nbformat_minor": 0
}