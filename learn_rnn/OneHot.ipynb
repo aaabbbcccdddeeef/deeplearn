{
 "cells": [
  {
   "cell_type": "code",
   "execution_count": 9,
   "metadata": {
    "collapsed": true,
    "pycharm": {
     "is_executing": false
    }
   },
   "outputs": [
    {
     "name": "stdout",
     "text": [
      "[[1. 0. 0. 0. 0. 0. 0. 0. 0. 0.]\n [0. 0. 0. 0. 0. 0. 0. 1. 0. 0.]\n [0. 0. 0. 0. 0. 0. 0. 0. 0. 1.]]\n"
     ],
     "output_type": "stream"
    }
   ],
   "source": [
    "import numpy as np\n",
    "\n",
    "word_array = ['apple', 'kiwi', 'mango']\n",
    "word_dict = {'apple': 0, 'banana': 1, 'orange': 2, 'grape': 3, 'melon': 4, 'peach': 5, 'pear': 6, 'kiwi': 7, 'plum': 8, 'mango': 9}\n",
    "\n",
    "# 创建一个全为0的矩阵\n",
    "one_hot_matrix = np.zeros((len(word_array), len(word_dict)))\n",
    "\n",
    "# 对每个单词进行one-hot编码\n",
    "for i, word in enumerate(word_array):\n",
    "    word_index = word_dict[word]\n",
    "    one_hot_matrix[i, word_index] = 1\n",
    "\n",
    "print(one_hot_matrix)"
   ]
  },
  {
   "cell_type": "code",
   "execution_count": 10,
   "outputs": [
    {
     "name": "stderr",
     "text": [
      "[nltk_data] Downloading package words to\n[nltk_data]     C:\\Users\\liaomin\\AppData\\Roaming\\nltk_data...\n[nltk_data]   Package words is already up-to-date!\n"
     ],
     "output_type": "stream"
    },
    {
     "name": "stdout",
     "text": [
      "235892 235892\n[[0. 0. 0. ... 0. 0. 0.]\n [0. 0. 0. ... 0. 0. 0.]\n [0. 0. 0. ... 0. 0. 0.]]\n"
     ],
     "output_type": "stream"
    }
   ],
   "source": [
    "import numpy as np\n",
    "#下载所有英文词汇表\n",
    "import nltk\n",
    "# 下载并导入NLTK的词汇表\n",
    "nltk.download('words')\n",
    "from nltk.corpus import words\n",
    "word_array = ['apple', 'kiwi', 'mango']\n",
    "# 创建一个包含所有英文单词的列表\n",
    "word_list = words.words()\n",
    "#去重重复字符\n",
    "word_list = list(set(word_list))\n",
    "\n",
    "# 创建一个字典，将每个单词与其索引对应起来\n",
    "word_dict = {word: index for index, word in enumerate(word_list)}\n",
    "# 创建一个全为0的矩阵\n",
    "one_hot_matrix = np.zeros((len(word_array), len(word_dict)))\n",
    "\n",
    "# 对每个单词进行one-hot编码\n",
    "for i, word in enumerate(word_array):\n",
    "    word_index = word_dict[word]\n",
    "    one_hot_matrix[i, word_index] = 1\n",
    "\n",
    "print(one_hot_matrix)"
   ],
   "metadata": {
    "collapsed": false,
    "pycharm": {
     "name": "#%%\n",
     "is_executing": false
    }
   }
  }
 ],
 "metadata": {
  "kernelspec": {
   "display_name": "Python 3",
   "language": "python",
   "name": "python3"
  },
  "language_info": {
   "codemirror_mode": {
    "name": "ipython",
    "version": 2
   },
   "file_extension": ".py",
   "mimetype": "text/x-python",
   "name": "python",
   "nbconvert_exporter": "python",
   "pygments_lexer": "ipython2",
   "version": "2.7.6"
  },
  "pycharm": {
   "stem_cell": {
    "cell_type": "raw",
    "source": [],
    "metadata": {
     "collapsed": false
    }
   }
  }
 },
 "nbformat": 4,
 "nbformat_minor": 0
}