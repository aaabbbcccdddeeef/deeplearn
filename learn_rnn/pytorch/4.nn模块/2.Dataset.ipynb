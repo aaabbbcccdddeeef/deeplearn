{
 "cells": [
  {
   "cell_type": "code",
   "execution_count": 33,
   "metadata": {
    "collapsed": true,
    "pycharm": {
     "is_executing": false
    }
   },
   "outputs": [
    {
     "name": "stdout",
     "text": [
      "Files already downloaded and verified\n",
      "Files already downloaded and verified\n",
      "(50000, 32, 32, 3) (10000, 32, 32, 3)\n50000\n<class 'torchvision.datasets.cifar.CIFAR10'>\n(<class 'torchvision.datasets.vision.VisionDataset'>,)\ntorch.Size([64, 3, 32, 32])\n"
     ],
     "output_type": "stream"
    }
   ],
   "source": [
    "import torchvision.datasets as datasets\n",
    "import torchvision.transforms as transforms\n",
    "from torch.utils.data import Dataset,DataLoader\n",
    "import torch as t\n",
    "import numpy as np\n",
    "#加载训练数据50000条\n",
    "train_dataset=datasets.CIFAR10(root=\"./data\",train=True,transform=transforms.ToTensor(),download=True)\n",
    "#测试数据集10000条\n",
    "test_dataset = datasets.CIFAR10(root='./data', train=False, download=True, transform=transforms.ToTensor())\n",
    "#打印数据集的维度\n",
    "print(train_dataset.data.shape,test_dataset.data.shape)\n",
    "#打印数据集的标签\n",
    "print(len(train_dataset.targets))\n",
    "#torchvision.datasets.cifar.CIFAR10\n",
    "print(type(train_dataset))\n",
    "#torchvision.datasets.vision.VisionDataset\n",
    "print(type(train_dataset).__bases__)\n",
    "\"\"\"\n",
    "DataLoader会将加载的数据集转换为（批量，通道，高度，宽度）的形式。在PyTorch中，图像数据一般采用CHW（通道，高度，宽度）的顺序。而DataLoader则会将加载的图像数据转换为（批量，通道，高度，宽度）的形式，\n",
    "其中批量表示一次加载的图像数量。这样的数据形式符合PyTorch中卷积神经网络的输入要求。\n",
    "torchvision.datasets.vision.VisionDataset复杂处理这些。\n",
    "参数参考md\n",
    "\"\"\"\n",
    "train_loader = DataLoader(train_dataset, batch_size=64, shuffle=True)\n",
    "test_loader = DataLoader(test_dataset, batch_size=64, shuffle=False)\n",
    "# 使用数据加载器进行迭代\n",
    "for batch in train_loader:\n",
    "    input_data, labels = batch\n",
    "    print(input_data.shape)\n",
    "    break;"
   ]
  },
  {
   "cell_type": "code",
   "execution_count": 31,
   "outputs": [
    {
     "name": "stdout",
     "text": [
      "tensor([4, 3]) tensor([1, 1])\ntensor([1, 2]) tensor([0, 1])\n"
     ],
     "output_type": "stream"
    }
   ],
   "source": [
    "#############自定义数据集\n",
    "#自己创建的数据集没有做任何维度的转换。\n",
    "class MyDs(Dataset):\n",
    "    def __init__(self,data,label):\n",
    "        self.data=data\n",
    "        self.label=label\n",
    "    def __len__(self):\n",
    "        return len(self.data)\n",
    "    def __getitem__(self, index):\n",
    "        return self.data[index],self.label[index]\n",
    "ds=MyDs([1,2,3,4],[0,1,1,1])\n",
    "dsLoader=DataLoader(ds,batch_size=2,shuffle=True)\n",
    "for input,label in dsLoader:\n",
    "    print(input,label)\n",
    "        \n"
   ],
   "metadata": {
    "collapsed": false,
    "pycharm": {
     "name": "#%%\n",
     "is_executing": false
    }
   }
  }
 ],
 "metadata": {
  "kernelspec": {
   "display_name": "Python 3",
   "language": "python",
   "name": "python3"
  },
  "language_info": {
   "codemirror_mode": {
    "name": "ipython",
    "version": 2
   },
   "file_extension": ".py",
   "mimetype": "text/x-python",
   "name": "python",
   "nbconvert_exporter": "python",
   "pygments_lexer": "ipython2",
   "version": "2.7.6"
  },
  "pycharm": {
   "stem_cell": {
    "cell_type": "raw",
    "source": [],
    "metadata": {
     "collapsed": false
    }
   }
  }
 },
 "nbformat": 4,
 "nbformat_minor": 0
}