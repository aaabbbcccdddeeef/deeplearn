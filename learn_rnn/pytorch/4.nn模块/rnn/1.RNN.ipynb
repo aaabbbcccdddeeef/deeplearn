{
 "cells": [
  {
   "cell_type": "code",
   "execution_count": 4,
   "metadata": {
    "collapsed": true,
    "pycharm": {
     "is_executing": false
    }
   },
   "outputs": [
    {
     "name": "stdout",
     "text": [
      "输入数据 tensor([[[-1.4815,  0.3820, -1.0811,  0.9234],\n         [-1.1824,  0.8669,  1.0915, -0.7811]],\n\n        [[-1.8493,  1.4005, -1.7302,  0.0379],\n         [-1.8458,  1.4293, -3.0106,  1.1077]],\n\n        [[-0.8486, -0.7203,  0.9842,  1.7643],\n         [ 1.2426, -0.5170,  0.4595,  0.8188]]])\nRNN最后时间步隐藏层 tensor([[[-0.6730, -0.4707, -0.1720],\n         [-0.9118, -0.7380,  0.1517]]], grad_fn=<StackBackward>)\nRNN最后时间步隐藏层维度 torch.Size([1, 2, 3])\nRNN所有隐藏层 tensor([[[-0.8238,  0.3849,  0.0883],\n         [ 0.4533,  0.7183, -0.7563]],\n\n        [[-0.6414,  0.8111, -0.6010],\n         [-0.4831,  0.0051, -0.4001]],\n\n        [[-0.6730, -0.4707, -0.1720],\n         [-0.9118, -0.7380,  0.1517]]], grad_fn=<StackBackward>)\nRNN所有隐藏层维度 torch.Size([3, 2, 3])\n"
     ],
     "output_type": "stream"
    }
   ],
   "source": [
    "\"\"\"\n",
    "PyTorch中实现了如今最常用的三种RNN：RNN（vanilla RNN）、LSTM和GRU。此外还有对应的三种RNNCell。\n",
    "RNN和RNNCell层的区别在于前者能够处理整个序列，而后者一次只处理序列中一个时间点的数据，\n",
    "前者封装更完备更易于使用，后者更具灵活性。RNN层可以通过组合调用RNNCell来实现。\n",
    "理论参考：https://blog.csdn.net/liaomin416100569/article/details/131380370?spm=1001.2014.3001.5501\n",
    "输入参数和RNN参数解释参考readme.md\n",
    "\"\"\"\n",
    "import torch as t\n",
    "import torch.nn as nn\n",
    "#注意默认（时间步，批次数，数据维度）\n",
    "sequence_length =3\n",
    "batch_size =2\n",
    "input_size =4\n",
    "input=t.randn(sequence_length,batch_size,input_size)\n",
    "print(\"输入数据\",input)\n",
    "rnnModel=nn.RNN(input_size,3,1)\n",
    "#其中，output是RNN每个时间步的输出，hidden是最后一个时间步的隐藏状态。\n",
    "output, hidden=rnnModel(input)\n",
    "print(\"RNN最后时间步隐藏层\",hidden)\n",
    "print(\"RNN最后时间步隐藏层维度\",hidden.shape)\n",
    "print(\"RNN所有隐藏层\",output)\n",
    "print(\"RNN所有隐藏层维度\",output.shape)"
   ]
  },
  {
   "cell_type": "code",
   "execution_count": 5,
   "outputs": [
    {
     "name": "stdout",
     "text": [
      "LSTM隐藏层输出的维度 torch.Size([3, 2, 3])\nLSTM隐藏层最后一个时间步输出的维度 torch.Size([1, 2, 3])\nLSTM隐藏层最后一个时间步细胞状态 torch.Size([1, 2, 3])\n2层LSTM隐藏层输出的维度 torch.Size([3, 2, 3])\n2层LSTM隐藏层最后一个时间步输出的维度 torch.Size([2, 2, 3])\n2层LSTM隐藏层最后一个时间步细胞状态 torch.Size([2, 2, 3])\n"
     ],
     "output_type": "stream"
    }
   ],
   "source": [
    "lstmModel=nn.LSTM(input_size,3,1)\n",
    "#其中，output是RNN每个时间步的输出，hidden是最后一个时间步的隐藏状态。\n",
    "output, (h, c) =lstmModel(input)\n",
    "print(\"LSTM隐藏层输出的维度\",output.shape)\n",
    "print(\"LSTM隐藏层最后一个时间步输出的维度\",h.shape)\n",
    "print(\"LSTM隐藏层最后一个时间步细胞状态\",c.shape)\n",
    "\n",
    "sequence_length =3\n",
    "batch_size =2\n",
    "input_size =4\n",
    "input=t.randn(sequence_length,batch_size,input_size)\n",
    "lstmModel=nn.LSTM(input_size,3,num_layers=2)\n",
    "#其中，2层的话输出的是每一个时间步最后一层的隐藏层的输出，h，c是一个时间步就有两层的隐藏层和记忆细胞\n",
    "output, (h, c) =lstmModel(input)\n",
    "print(\"2层LSTM隐藏层输出的维度\",output.shape)\n",
    "print(\"2层LSTM隐藏层最后一个时间步输出的维度\",h.shape)\n",
    "print(\"2层LSTM隐藏层最后一个时间步细胞状态\",c.shape)"
   ],
   "metadata": {
    "collapsed": false,
    "pycharm": {
     "name": "#%%\n",
     "is_executing": false
    }
   }
  },
  {
   "cell_type": "code",
   "execution_count": 6,
   "outputs": [
    {
     "name": "stdout",
     "text": [
      "GRU隐藏层输出的维度 torch.Size([3, 2, 3])\nGRU隐藏层最后一个时间步输出的维度 torch.Size([1, 2, 3])\n"
     ],
     "output_type": "stream"
    }
   ],
   "source": [
    "# gru没有细胞状态\n",
    "gruModel=nn.GRU(input_size,3,1)\n",
    "#其中，output是RNN每个时间步的输出，hidden是最后一个时间步的隐藏状态。\n",
    "output, h =gruModel(input)\n",
    "print(\"GRU隐藏层输出的维度\",output.shape)\n",
    "print(\"GRU隐藏层最后一个时间步输出的维度\",h.shape)\n"
   ],
   "metadata": {
    "collapsed": false,
    "pycharm": {
     "name": "#%%\n",
     "is_executing": false
    }
   }
  }
 ],
 "metadata": {
  "kernelspec": {
   "display_name": "Python 3",
   "language": "python",
   "name": "python3"
  },
  "language_info": {
   "codemirror_mode": {
    "name": "ipython",
    "version": 2
   },
   "file_extension": ".py",
   "mimetype": "text/x-python",
   "name": "python",
   "nbconvert_exporter": "python",
   "pygments_lexer": "ipython2",
   "version": "2.7.6"
  },
  "pycharm": {
   "stem_cell": {
    "cell_type": "raw",
    "source": [],
    "metadata": {
     "collapsed": false
    }
   }
  }
 },
 "nbformat": 4,
 "nbformat_minor": 0
}