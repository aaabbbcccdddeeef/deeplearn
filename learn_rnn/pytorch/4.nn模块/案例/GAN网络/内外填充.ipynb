{
 "cells": [
  {
   "cell_type": "code",
   "execution_count": 4,
   "metadata": {
    "collapsed": true,
    "pycharm": {
     "is_executing": false
    }
   },
   "outputs": [
    {
     "name": "stdout",
     "text": [
      "[[1. 1. 1. 1. 1.]\n [1. 1. 1. 1. 1.]\n [1. 1. 1. 1. 1.]\n [1. 1. 1. 1. 1.]]\n周围 [[0. 0. 0. 0. 0. 0. 0. 0. 0. 0. 0.]\n [0. 0. 0. 0. 0. 0. 0. 0. 0. 0. 0.]\n [0. 0. 0. 0. 0. 0. 0. 0. 0. 0. 0.]\n [0. 0. 0. 1. 1. 1. 1. 1. 0. 0. 0.]\n [0. 0. 0. 1. 1. 1. 1. 1. 0. 0. 0.]\n [0. 0. 0. 1. 1. 1. 1. 1. 0. 0. 0.]\n [0. 0. 0. 1. 1. 1. 1. 1. 0. 0. 0.]\n [0. 0. 0. 0. 0. 0. 0. 0. 0. 0. 0.]\n [0. 0. 0. 0. 0. 0. 0. 0. 0. 0. 0.]\n [0. 0. 0. 0. 0. 0. 0. 0. 0. 0. 0.]]\n左上角 [[0. 0. 0. 0. 0. 0. 0. 0.]\n [0. 0. 0. 0. 0. 0. 0. 0.]\n [0. 0. 0. 0. 0. 0. 0. 0.]\n [0. 0. 0. 1. 1. 1. 1. 1.]\n [0. 0. 0. 1. 1. 1. 1. 1.]\n [0. 0. 0. 1. 1. 1. 1. 1.]\n [0. 0. 0. 1. 1. 1. 1. 1.]]\n右下角 [[1. 1. 1. 1. 1. 0. 0. 0.]\n [1. 1. 1. 1. 1. 0. 0. 0.]\n [1. 1. 1. 1. 1. 0. 0. 0.]\n [1. 1. 1. 1. 1. 0. 0. 0.]\n [0. 0. 0. 0. 0. 0. 0. 0.]\n [0. 0. 0. 0. 0. 0. 0. 0.]\n [0. 0. 0. 0. 0. 0. 0. 0.]]\n"
     ],
     "output_type": "stream"
    }
   ],
   "source": [
    "import numpy as np\n",
    "oneArry=np.ones((4,5))\n",
    "print(oneArry)\n",
    "print(\"周围\",np.pad(oneArry,3))  #等价于print(np.pad(oneArry,(3,3)))\n",
    "#注意元组0是左上角补充3行 ，元组1表示右小角\n",
    "print(\"左上角\",np.pad(oneArry,(3,0)))\n",
    "print(\"右下角\",np.pad(oneArry,(0,3)))"
   ]
  },
  {
   "cell_type": "code",
   "execution_count": 5,
   "outputs": [
    {
     "name": "stdout",
     "text": [
      "[[0. 0. 0.]\n [0. 0. 0.]\n [0. 0. 0.]]\n[[1. 0. 1.]\n [0. 0. 0.]\n [1. 0. 1.]]\n"
     ],
     "output_type": "stream"
    }
   ],
   "source": [
    "import numpy as np\n",
    "\n",
    "matrix = [[1, 1],\n",
    "          [1, 1]]\n",
    "\n",
    "zero_inserted_matrix = np.zeros((2*len(matrix)-1, 2*len(matrix[0])-1))\n",
    "print(zero_inserted_matrix)\n",
    "for i in range(len(matrix)):\n",
    "    for j in range(len(matrix[0])):\n",
    "        zero_inserted_matrix[2*i][2*j] = matrix[i][j]\n",
    "\n",
    "print(zero_inserted_matrix)\n"
   ],
   "metadata": {
    "collapsed": false,
    "pycharm": {
     "name": "#%%\n",
     "is_executing": false
    }
   }
  }
 ],
 "metadata": {
  "kernelspec": {
   "display_name": "Python 3",
   "language": "python",
   "name": "python3"
  },
  "language_info": {
   "codemirror_mode": {
    "name": "ipython",
    "version": 2
   },
   "file_extension": ".py",
   "mimetype": "text/x-python",
   "name": "python",
   "nbconvert_exporter": "python",
   "pygments_lexer": "ipython2",
   "version": "2.7.6"
  },
  "pycharm": {
   "stem_cell": {
    "cell_type": "raw",
    "source": [],
    "metadata": {
     "collapsed": false
    }
   }
  }
 },
 "nbformat": 4,
 "nbformat_minor": 0
}