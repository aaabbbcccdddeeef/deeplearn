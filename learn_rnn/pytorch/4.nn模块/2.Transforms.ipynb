{
 "cells": [
  {
   "cell_type": "code",
   "execution_count": null,
   "metadata": {
    "collapsed": true
   },
   "outputs": [],
   "source": [
    "\n",
    "import torchvision.datasets as datasets\n",
    "import torchvision.transforms as transforms\n",
    "import matplotlib.pyplot as plt\n",
    "#预处理模块\n",
    "transformFun=transforms.ToTensor()\n",
    "trainData=datasets.CIFAR10(root=\"./data\",train=True,transform=transformFun,download=True)\n",
    "image,label=trainData[2]\n",
    "\"\"\"\n",
    "在PyTorch中，张量的默认通道顺序是\"通道-高度-宽度\"，即通常使用的RGB顺序。这意味着红色通道在第一个维度（索引为0），绿色通道在第二个维度（索引为1），蓝色通道在第三个维度（索引为2）。\n",
    "因此，对于形状为[3, 32, 32]的张量，第一个维度表示红色通道，第二个维度表示高度，第三个维度表示宽度。\n",
    "opencv是（表示图像的高度、宽度和通道数。）\n",
    "\"\"\"\n",
    "print(image.shape,len(image))\n",
    "#将第2个位置的数据替换成第0维度，第一个替换成\n",
    "opencvtensor = image.permute(1, 2, 0)\n",
    "print(opencvtensor.shape)\n",
    "\n",
    "image1 = transforms.ToPILImage()(image)\n",
    "plt.imshow(image1)\n",
    "plt.show()\n"
   ]
  }
 ],
 "metadata": {
  "kernelspec": {
   "display_name": "Python 3",
   "language": "python",
   "name": "python3"
  },
  "language_info": {
   "codemirror_mode": {
    "name": "ipython",
    "version": 2
   },
   "file_extension": ".py",
   "mimetype": "text/x-python",
   "name": "python",
   "nbconvert_exporter": "python",
   "pygments_lexer": "ipython2",
   "version": "2.7.6"
  },
  "pycharm": {
   "stem_cell": {
    "cell_type": "raw",
    "source": [],
    "metadata": {
     "collapsed": false
    }
   }
  }
 },
 "nbformat": 4,
 "nbformat_minor": 0
}