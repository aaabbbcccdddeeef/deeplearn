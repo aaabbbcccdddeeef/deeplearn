{
 "cells": [
  {
   "cell_type": "code",
   "execution_count": 5,
   "metadata": {
    "collapsed": true,
    "pycharm": {
     "is_executing": false
    }
   },
   "outputs": [],
   "source": [
    "from myutils.nnutils import *\n",
    "#删除runs目录下的所有文件和目录            \n",
    "delete_directory_contents(\"./runs/\")   \n",
    "import numpy as np\n",
    "from torch.utils.tensorboard import SummaryWriter\n",
    "\n",
    "writer = SummaryWriter()\n",
    "flag = 1\n",
    "if flag :\n",
    "    for x in range(10):\n",
    "        data_1 = np.arange(1000)\n",
    "        data_2 = np.random.normal(size=1000)\n",
    "        #直方图的结构是y轴是第多少次，x轴显示value的波动\n",
    "        writer.add_histogram(\"data1\",data_1,x)\n",
    "        writer.add_histogram('data2',data_2,x)\n",
    "writer.close()\n"
   ]
  }
 ],
 "metadata": {
  "kernelspec": {
   "display_name": "Python 3",
   "language": "python",
   "name": "python3"
  },
  "language_info": {
   "codemirror_mode": {
    "name": "ipython",
    "version": 2
   },
   "file_extension": ".py",
   "mimetype": "text/x-python",
   "name": "python",
   "nbconvert_exporter": "python",
   "pygments_lexer": "ipython2",
   "version": "2.7.6"
  },
  "pycharm": {
   "stem_cell": {
    "cell_type": "raw",
    "source": [],
    "metadata": {
     "collapsed": false
    }
   }
  }
 },
 "nbformat": 4,
 "nbformat_minor": 0
}