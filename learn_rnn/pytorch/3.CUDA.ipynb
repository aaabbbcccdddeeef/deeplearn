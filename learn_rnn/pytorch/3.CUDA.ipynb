{
 "cells": [
  {
   "cell_type": "code",
   "execution_count": 4,
   "metadata": {
    "collapsed": true,
    "pycharm": {
     "is_executing": false
    }
   },
   "outputs": [
    {
     "name": "stdout",
     "text": [
      "1.9.1+cu111\nTrue\n1\n",
      "tensor([[0.6242, 0.7925, 0.0150],\n        [0.5006, 0.2607, 0.8096],\n        [0.9527, 0.7455, 0.4086],\n        [0.2181, 0.5346, 0.2086],\n        [0.6491, 0.0720, 0.1928]], device='cuda:0')\n"
     ],
     "output_type": "stream"
    }
   ],
   "source": [
    "#nvidia-smi获取cuda版本：安装参考：https://blog.csdn.net/wangmengmeng99/article/details/128318248\n",
    "import torch\n",
    "print(torch.__version__)\n",
    "print(torch.cuda.is_available())\n",
    "print(torch.cuda.device_count())\n",
    "\n",
    "x1=torch.rand(5,3)\n",
    "#把x1转换gpu0的tensor\n",
    "x1=x1.cuda(0)\n",
    "print(x1)\n"
   ]
  }
 ],
 "metadata": {
  "kernelspec": {
   "display_name": "Python 3",
   "language": "python",
   "name": "python3"
  },
  "language_info": {
   "codemirror_mode": {
    "name": "ipython",
    "version": 2
   },
   "file_extension": ".py",
   "mimetype": "text/x-python",
   "name": "python",
   "nbconvert_exporter": "python",
   "pygments_lexer": "ipython2",
   "version": "2.7.6"
  },
  "pycharm": {
   "stem_cell": {
    "cell_type": "raw",
    "source": [],
    "metadata": {
     "collapsed": false
    }
   }
  }
 },
 "nbformat": 4,
 "nbformat_minor": 0
}