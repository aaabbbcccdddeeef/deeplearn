{
 "cells": [
  {
   "cell_type": "code",
   "execution_count": 3,
   "metadata": {
    "collapsed": true,
    "pycharm": {
     "is_executing": false
    }
   },
   "outputs": [
    {
     "name": "stderr",
     "text": [
      "Traceback (most recent call last):\n  File \"C:\\Program Files\\JetBrains\\PyCharm 2019.2.4\\helpers-pro\\jupyter_debug\\pydev_jupyter_utils.py\", line 69, in attach_to_debugger\n    debugger.prepare_to_run(enable_tracing_from_start=False)\nTypeError: prepare_to_run() got an unexpected keyword argument 'enable_tracing_from_start'\nFailed to connect to target debugger.\n"
     ],
     "output_type": "stream"
    },
    {
     "name": "stdout",
     "text": [
      "1.9.1+cu111\nTrue\n1\ntensor([[0.5761, 0.7046, 0.2004],\n        [0.6030, 0.3285, 0.5602],\n        [0.6852, 0.6602, 0.0033],\n        [0.4213, 0.7174, 0.0591],\n        [0.5276, 0.4181, 0.8665]], device='cuda:0')\n"
     ],
     "output_type": "stream"
    }
   ],
   "source": [
    "#nvidia-smi获取cuda版本：安装参考：https://blog.csdn.net/wangmengmeng99/article/details/128318248\n",
    "import torch\n",
    "print(torch.__version__)\n",
    "print(torch.cuda.is_available())\n",
    "print(torch.cuda.device_count())\n",
    "\n",
    "x1=torch.rand(5,3)\n",
    "#把x1转换gpu0的tensor\n",
    "x1=x1.cuda(0)\n",
    "print(x1)\n"
   ]
  }
 ],
 "metadata": {
  "kernelspec": {
   "display_name": "Python 3",
   "language": "python",
   "name": "python3"
  },
  "language_info": {
   "codemirror_mode": {
    "name": "ipython",
    "version": 2
   },
   "file_extension": ".py",
   "mimetype": "text/x-python",
   "name": "python",
   "nbconvert_exporter": "python",
   "pygments_lexer": "ipython2",
   "version": "2.7.6"
  },
  "pycharm": {
   "stem_cell": {
    "cell_type": "raw",
    "source": [],
    "metadata": {
     "collapsed": false
    }
   }
  }
 },
 "nbformat": 4,
 "nbformat_minor": 0
}